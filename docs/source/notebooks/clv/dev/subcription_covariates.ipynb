{
 "cells": [
  {
   "cell_type": "markdown",
   "id": "11ea97af-252f-4632-84dc-20e9eae81d01",
   "metadata": {},
   "source": [
    "# Subcription Covariates Model\n",
    "\n",
    "Also known as the G2G + Covariates Model. Developed by Fader & Hardie in [\"Incorporating Time-Varying Covariates in\n",
    "a Simple Mixture Model for\n",
    "Discrete-Time Duration Data\"](https://www.brucehardie.com/notes/037/time-varying_covariates_in_BG.pdf)."
   ]
  },
  {
   "cell_type": "markdown",
   "id": "c92194d3-cf15-4b9f-91a7-b21de02063ea",
   "metadata": {},
   "source": [
    "### Setup Notebook"
   ]
  },
  {
   "cell_type": "code",
   "execution_count": 1,
   "id": "1db0aadb-d176-4698-8ba7-a0f0fe172b95",
   "metadata": {},
   "outputs": [
    {
     "name": "stderr",
     "output_type": "stream",
     "text": [
      "WARNING (pytensor.tensor.blas): Using NumPy C-API based implementation for BLAS functions.\n"
     ]
    }
   ],
   "source": [
    "import arviz as az\n",
    "import matplotlib.pyplot as plt\n",
    "import numpy as np\n",
    "import pandas as pd\n",
    "import pymc as pm\n",
    "import seaborn as sb\n",
    "import xarray as xr\n",
    "from fastprogress.fastprogress import progress_bar\n",
    "import pymc as pm\n",
    "import pytensor as pt\n",
    "\n",
    "from pymc_marketing import clv\n",
    "from pymc_marketing.prior import Prior\n",
    "\n",
    "#set flag to fix open issue\n",
    "pt.config.cxx = '/usr/bin/clang++'\n",
    "\n",
    "# Plotting configuration\n",
    "az.style.use(\"arviz-darkgrid\")\n",
    "plt.rcParams[\"figure.figsize\"] = [12, 7]\n",
    "plt.rcParams[\"figure.dpi\"] = 100\n",
    "plt.rcParams[\"figure.facecolor\"] = \"white\"\n",
    "\n",
    "%load_ext autoreload\n",
    "%autoreload 2\n",
    "%config InlineBackend.figure_format = \"retina\""
   ]
  },
  {
   "cell_type": "markdown",
   "id": "3587f3a8-029c-431c-b33c-c9a953051b18",
   "metadata": {},
   "source": [
    "### Generate Data"
   ]
  },
  {
   "cell_type": "code",
   "execution_count": 48,
   "id": "8d0b1163-58d3-428c-8ac9-7695d7a8bac4",
   "metadata": {},
   "outputs": [],
   "source": [
    "# Set random seed\n",
    "rng = np.random.seed(45)\n",
    "\n",
    "# Number of customers\n",
    "N = 1000\n",
    "\n",
    "#np.array(np.arange(N))\n",
    "\n",
    "t_periods = 13 - pm.draw(pm.Geometric.dist(p=.5, rng=rng),draws=N)"
   ]
  },
  {
   "cell_type": "code",
   "execution_count": 59,
   "id": "a5cad4ca-6d4a-444f-968e-c857bdfabc5a",
   "metadata": {},
   "outputs": [],
   "source": [
    "n_purchases = pm.draw(pm.Poisson.dist(mu=1, rng=rng), draws=N)\n",
    "avg_purchase_price = pm.draw(pm.Gamma.dist(alpha=10, beta=1, rng=rng), draws=N)"
   ]
  },
  {
   "cell_type": "code",
   "execution_count": 66,
   "id": "a9032add-fdbd-4252-adbe-758fc2e58046",
   "metadata": {},
   "outputs": [],
   "source": [
    "n_purchases = []\n",
    "avg_purchase_price = []\n",
    "customer_id = []\n",
    "\n",
    "for t in t_periods:\n",
    "    customer_id = t\n",
    "    n_purchases.append(pm.draw(pm.Poisson.dist(mu=1, rng=rng), draws=t_periods[t]))\n",
    "    avg_purchase_price.append(pm.draw(pm.Gamma.dist(alpha=10, beta=1, rng=rng), draws=t))"
   ]
  },
  {
   "cell_type": "code",
   "execution_count": null,
   "id": "bf33b07f-d9cd-46a4-824f-3a9608430b53",
   "metadata": {},
   "outputs": [],
   "source": []
  }
 ],
 "metadata": {
  "kernelspec": {
   "display_name": "Python 3 (ipykernel)",
   "language": "python",
   "name": "python3"
  },
  "language_info": {
   "codemirror_mode": {
    "name": "ipython",
    "version": 3
   },
   "file_extension": ".py",
   "mimetype": "text/x-python",
   "name": "python",
   "nbconvert_exporter": "python",
   "pygments_lexer": "ipython3",
   "version": "3.10.14"
  }
 },
 "nbformat": 4,
 "nbformat_minor": 5
}
