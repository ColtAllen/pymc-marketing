{
 "cells": [
  {
   "cell_type": "markdown",
   "id": "11ea97af-252f-4632-84dc-20e9eae81d01",
   "metadata": {},
   "source": [
    "# Subscription Covariates Model\n",
    "\n",
    "Models such as `BetaGeoNBDModel` work well for retail transactions, but subscription renewals require a different approach. In [\"Incorporating Time-Varying Covariates in\n",
    "a Simple Mixture Model for\n",
    "Discrete-Time Duration Data\"](https://www.brucehardie.com/notes/037/time-varying_covariates_in_BG.pdf), Fader & Hardie propose an ideal model for this very purpose. The research note derives a model supporting time-varying covariates, but with this [methodology](https://brucehardie.com/notes/019/time_invariant_covariates.pdf), it can be easily extended to support static covariates as well.\n"
   ]
  },
  {
   "cell_type": "markdown",
   "id": "c92194d3-cf15-4b9f-91a7-b21de02063ea",
   "metadata": {},
   "source": [
    "### Setup Notebook"
   ]
  },
  {
   "cell_type": "code",
   "execution_count": 1,
   "id": "1db0aadb-d176-4698-8ba7-a0f0fe172b95",
   "metadata": {},
   "outputs": [],
   "source": [
    "import arviz as az\n",
    "import matplotlib.pyplot as plt\n",
    "import numpy as np\n",
    "import pandas as pd\n",
    "import pymc as pm\n",
    "import seaborn as sb\n",
    "import xarray as xr\n",
    "from fastprogress.fastprogress import progress_bar\n",
    "import pymc as pm\n",
    "import pytensor as pt\n",
    "\n",
    "from pymc_marketing import clv\n",
    "from pymc_marketing.prior import Prior"
   ]
  },
  {
   "cell_type": "code",
   "execution_count": 2,
   "id": "29c69a93-e286-4993-a845-02ef460b5be0",
   "metadata": {},
   "outputs": [],
   "source": [
    "# Plotting configuration\n",
    "az.style.use(\"arviz-darkgrid\")\n",
    "plt.rcParams[\"figure.figsize\"] = [12, 7]\n",
    "plt.rcParams[\"figure.dpi\"] = 100\n",
    "plt.rcParams[\"figure.facecolor\"] = \"white\"\n",
    "\n",
    "%load_ext autoreload\n",
    "%autoreload 2\n",
    "%config InlineBackend.figure_format = \"retina\""
   ]
  },
  {
   "cell_type": "code",
   "execution_count": 3,
   "id": "53b52e85-001f-4903-ab0f-26c5fedb9268",
   "metadata": {},
   "outputs": [],
   "source": [
    "seed = sum(map(ord, \"Subscription Covariates Model\"))\n",
    "rng = np.random.default_rng(seed)"
   ]
  },
  {
   "cell_type": "markdown",
   "id": "3587f3a8-029c-431c-b33c-c9a953051b18",
   "metadata": {},
   "source": [
    "### Generate Data\n",
    "We will be recreating the test dataset from the [`ShiftedBetaGeoModelIndividual` notebook](https://www.pymc-marketing.io/en/stable/notebooks/clv/sBG.html) for comparison. This dataset consists of 2,000 customers in two groups - Regular and High-end. Both groups contain 1,000 customers.\n",
    "\n",
    "The following dataframe contains the percent of customers still active in each time period for both groups:"
   ]
  },
  {
   "cell_type": "code",
   "execution_count": 4,
   "id": "a613f2e2-7d69-493a-8a99-b633e7ba989f",
   "metadata": {
    "jupyter": {
     "source_hidden": true
    }
   },
   "outputs": [
    {
     "data": {
      "text/html": [
       "<div>\n",
       "<style scoped>\n",
       "    .dataframe tbody tr th:only-of-type {\n",
       "        vertical-align: middle;\n",
       "    }\n",
       "\n",
       "    .dataframe tbody tr th {\n",
       "        vertical-align: top;\n",
       "    }\n",
       "\n",
       "    .dataframe thead th {\n",
       "        text-align: right;\n",
       "    }\n",
       "</style>\n",
       "<table border=\"1\" class=\"dataframe\">\n",
       "  <thead>\n",
       "    <tr style=\"text-align: right;\">\n",
       "      <th></th>\n",
       "      <th>regular</th>\n",
       "      <th>highend</th>\n",
       "    </tr>\n",
       "  </thead>\n",
       "  <tbody>\n",
       "    <tr>\n",
       "      <th>0</th>\n",
       "      <td>100.0</td>\n",
       "      <td>100.0</td>\n",
       "    </tr>\n",
       "    <tr>\n",
       "      <th>1</th>\n",
       "      <td>63.1</td>\n",
       "      <td>86.9</td>\n",
       "    </tr>\n",
       "    <tr>\n",
       "      <th>2</th>\n",
       "      <td>46.8</td>\n",
       "      <td>74.3</td>\n",
       "    </tr>\n",
       "    <tr>\n",
       "      <th>3</th>\n",
       "      <td>38.2</td>\n",
       "      <td>65.3</td>\n",
       "    </tr>\n",
       "    <tr>\n",
       "      <th>4</th>\n",
       "      <td>32.6</td>\n",
       "      <td>59.3</td>\n",
       "    </tr>\n",
       "    <tr>\n",
       "      <th>5</th>\n",
       "      <td>28.9</td>\n",
       "      <td>55.1</td>\n",
       "    </tr>\n",
       "    <tr>\n",
       "      <th>6</th>\n",
       "      <td>26.2</td>\n",
       "      <td>51.7</td>\n",
       "    </tr>\n",
       "    <tr>\n",
       "      <th>7</th>\n",
       "      <td>24.1</td>\n",
       "      <td>49.1</td>\n",
       "    </tr>\n",
       "    <tr>\n",
       "      <th>8</th>\n",
       "      <td>22.3</td>\n",
       "      <td>46.8</td>\n",
       "    </tr>\n",
       "    <tr>\n",
       "      <th>9</th>\n",
       "      <td>20.7</td>\n",
       "      <td>44.5</td>\n",
       "    </tr>\n",
       "    <tr>\n",
       "      <th>10</th>\n",
       "      <td>19.4</td>\n",
       "      <td>42.7</td>\n",
       "    </tr>\n",
       "    <tr>\n",
       "      <th>11</th>\n",
       "      <td>18.3</td>\n",
       "      <td>40.9</td>\n",
       "    </tr>\n",
       "    <tr>\n",
       "      <th>12</th>\n",
       "      <td>17.3</td>\n",
       "      <td>39.4</td>\n",
       "    </tr>\n",
       "  </tbody>\n",
       "</table>\n",
       "</div>"
      ],
      "text/plain": [
       "    regular  highend\n",
       "0     100.0    100.0\n",
       "1      63.1     86.9\n",
       "2      46.8     74.3\n",
       "3      38.2     65.3\n",
       "4      32.6     59.3\n",
       "5      28.9     55.1\n",
       "6      26.2     51.7\n",
       "7      24.1     49.1\n",
       "8      22.3     46.8\n",
       "9      20.7     44.5\n",
       "10     19.4     42.7\n",
       "11     18.3     40.9\n",
       "12     17.3     39.4"
      ]
     },
     "execution_count": 4,
     "metadata": {},
     "output_type": "execute_result"
    }
   ],
   "source": [
    "df = pd.DataFrame(\n",
    "    {\n",
    "        \"regular\": [\n",
    "            100.0,\n",
    "            63.1,\n",
    "            46.8,\n",
    "            38.2,\n",
    "            32.6,\n",
    "            28.9,\n",
    "            26.2,\n",
    "            24.1,\n",
    "            22.3,\n",
    "            20.7,\n",
    "            19.4,\n",
    "            18.3,\n",
    "            17.3,\n",
    "        ],\n",
    "        \"highend\": [\n",
    "            100.0,\n",
    "            86.9,\n",
    "            74.3,\n",
    "            65.3,\n",
    "            59.3,\n",
    "            55.1,\n",
    "            51.7,\n",
    "            49.1,\n",
    "            46.8,\n",
    "            44.5,\n",
    "            42.7,\n",
    "            40.9,\n",
    "            39.4,\n",
    "        ],\n",
    "    }\n",
    ")\n",
    "df"
   ]
  },
  {
   "cell_type": "markdown",
   "id": "c378e4cb-efa5-4136-af58-b36ba1d51d31",
   "metadata": {},
   "source": [
    "Note time period 0 is specific to each customer: Time 0 for one customer may be Oct 2024, and Time 0 for another could be Jan 2025. It is the responsibility of the user to index the modeling data by the number of active time periods for each customer. The first seven time periods will be used for model fitting, and the remaining 6 for validation.\n",
    "\n",
    "The next three cells contain a data generation function, which is then parametrized to create the regular and highend customers. Both customer groups are then concatenated into a `pandas` dataframe for modeling."
   ]
  },
  {
   "cell_type": "code",
   "execution_count": 5,
   "id": "76397a31-39bd-4f13-badb-b07b5cc7df1b",
   "metadata": {
    "jupyter": {
     "source_hidden": true
    }
   },
   "outputs": [],
   "source": [
    "def individual_data_from_percentage_alive(percentage_alive, initial_customers):\n",
    "    n_alive = np.asarray(percentage_alive / 100 * initial_customers, dtype=int)\n",
    "\n",
    "    died_at = np.zeros((initial_customers,), dtype=int)\n",
    "    counter = 0\n",
    "    for t, diff in enumerate((n_alive[:-1] - n_alive[1:]), start=1):\n",
    "        died_at[counter : counter + diff] = t\n",
    "        counter += diff\n",
    "\n",
    "    censoring_t = t + 1\n",
    "    died_at[counter:] = censoring_t\n",
    "\n",
    "    return died_at"
   ]
  },
  {
   "cell_type": "code",
   "execution_count": 6,
   "id": "2a441f08-2183-4c3d-bc3c-24eb297187a2",
   "metadata": {
    "jupyter": {
     "source_hidden": true
    }
   },
   "outputs": [],
   "source": [
    "T = 8  # In the paper only the first 7 years (plus current year) are included in the model.\n",
    "\n",
    "truncated_df = df[:T]\n",
    "initial_customers = 1000  # Seems to be what F&H use, according to Appendix B\n",
    "churn_highend = individual_data_from_percentage_alive(\n",
    "    truncated_df[\"highend\"], initial_customers\n",
    ")\n",
    "churn_regular = individual_data_from_percentage_alive(\n",
    "    truncated_df[\"regular\"], initial_customers\n",
    ")"
   ]
  },
  {
   "cell_type": "code",
   "execution_count": 7,
   "id": "8e7869dc-b880-4706-8f7e-2b54e77a09bf",
   "metadata": {
    "jupyter": {
     "source_hidden": true
    }
   },
   "outputs": [
    {
     "data": {
      "text/html": [
       "<div>\n",
       "<style scoped>\n",
       "    .dataframe tbody tr th:only-of-type {\n",
       "        vertical-align: middle;\n",
       "    }\n",
       "\n",
       "    .dataframe tbody tr th {\n",
       "        vertical-align: top;\n",
       "    }\n",
       "\n",
       "    .dataframe thead th {\n",
       "        text-align: right;\n",
       "    }\n",
       "</style>\n",
       "<table border=\"1\" class=\"dataframe\">\n",
       "  <thead>\n",
       "    <tr style=\"text-align: right;\">\n",
       "      <th></th>\n",
       "      <th>customer_id</th>\n",
       "      <th>t_churn</th>\n",
       "      <th>T</th>\n",
       "      <th>group</th>\n",
       "    </tr>\n",
       "  </thead>\n",
       "  <tbody>\n",
       "    <tr>\n",
       "      <th>0</th>\n",
       "      <td>0</td>\n",
       "      <td>1</td>\n",
       "      <td>8</td>\n",
       "      <td>highend</td>\n",
       "    </tr>\n",
       "    <tr>\n",
       "      <th>200</th>\n",
       "      <td>200</td>\n",
       "      <td>2</td>\n",
       "      <td>8</td>\n",
       "      <td>highend</td>\n",
       "    </tr>\n",
       "    <tr>\n",
       "      <th>400</th>\n",
       "      <td>400</td>\n",
       "      <td>4</td>\n",
       "      <td>8</td>\n",
       "      <td>highend</td>\n",
       "    </tr>\n",
       "    <tr>\n",
       "      <th>600</th>\n",
       "      <td>600</td>\n",
       "      <td>8</td>\n",
       "      <td>8</td>\n",
       "      <td>highend</td>\n",
       "    </tr>\n",
       "    <tr>\n",
       "      <th>800</th>\n",
       "      <td>800</td>\n",
       "      <td>8</td>\n",
       "      <td>8</td>\n",
       "      <td>highend</td>\n",
       "    </tr>\n",
       "    <tr>\n",
       "      <th>0</th>\n",
       "      <td>0</td>\n",
       "      <td>1</td>\n",
       "      <td>8</td>\n",
       "      <td>regular</td>\n",
       "    </tr>\n",
       "    <tr>\n",
       "      <th>200</th>\n",
       "      <td>200</td>\n",
       "      <td>1</td>\n",
       "      <td>8</td>\n",
       "      <td>regular</td>\n",
       "    </tr>\n",
       "    <tr>\n",
       "      <th>400</th>\n",
       "      <td>400</td>\n",
       "      <td>2</td>\n",
       "      <td>8</td>\n",
       "      <td>regular</td>\n",
       "    </tr>\n",
       "    <tr>\n",
       "      <th>600</th>\n",
       "      <td>600</td>\n",
       "      <td>3</td>\n",
       "      <td>8</td>\n",
       "      <td>regular</td>\n",
       "    </tr>\n",
       "    <tr>\n",
       "      <th>800</th>\n",
       "      <td>800</td>\n",
       "      <td>8</td>\n",
       "      <td>8</td>\n",
       "      <td>regular</td>\n",
       "    </tr>\n",
       "  </tbody>\n",
       "</table>\n",
       "</div>"
      ],
      "text/plain": [
       "     customer_id  t_churn  T    group\n",
       "0              0        1  8  highend\n",
       "200          200        2  8  highend\n",
       "400          400        4  8  highend\n",
       "600          600        8  8  highend\n",
       "800          800        8  8  highend\n",
       "0              0        1  8  regular\n",
       "200          200        1  8  regular\n",
       "400          400        2  8  regular\n",
       "600          600        3  8  regular\n",
       "800          800        8  8  regular"
      ]
     },
     "execution_count": 7,
     "metadata": {},
     "output_type": "execute_result"
    }
   ],
   "source": [
    "dataset_highend = pd.DataFrame(\n",
    "    {\n",
    "        \"customer_id\": np.arange(initial_customers),\n",
    "        \"t_churn\": churn_highend,\n",
    "        \"T\": T,\n",
    "        \"group\": \"highend\",\n",
    "    }\n",
    ")\n",
    "\n",
    "dataset_regular = pd.DataFrame(\n",
    "    {\n",
    "        \"customer_id\": np.arange(initial_customers),\n",
    "        \"t_churn\": churn_regular,\n",
    "        \"T\": T,\n",
    "        \"group\": \"regular\",\n",
    "    }\n",
    ")\n",
    "\n",
    "dataset = pd.concat([dataset_highend,dataset_regular])\n",
    "\n",
    "dataset[::200]"
   ]
  },
  {
   "cell_type": "markdown",
   "id": "4ba2a75a-db1c-4b7d-ae9a-010e36456fa0",
   "metadata": {},
   "source": [
    "# Model Fitting"
   ]
  },
  {
   "cell_type": "markdown",
   "id": "8a9b9d24-6e7c-4ec6-a5f3-a1c544c34f05",
   "metadata": {},
   "source": [
    "Fader & Hardie refer to this model as the G2G+covariates model, because it is based on the Grassia(II)-Geometric distribution. For simplicity's sake, we will refer to it as `SubcriptionModel`. It has the following assumptions:\n",
    "\n",
    "1. Customers are active for a discrete number of $t$ subscription periods, then permanently cancel their subscription at time period $T$.\n",
    "   \n",
    "2. Difference between customers are characterized by a Gamma distribution with shape $r$ and scale $\\alpha$.\n",
    "   \n",
    "3. Time-varying covariates for each customer are described by $C(t)$:\n",
    "   $$C(t)=\\sum_{j=1}^{t} e^{z(j)\\beta}$$\n",
    "   Where $z(j)$ denotes the vector of covariates at time $j$, and $\\beta$ the effects of these covariates. If no covariates are specified,    this expression reduces to $t$.\n",
    "   \n",
    "4. Parameters $r$, $\\alpha$, and $\\beta$ do not vary over time.\n",
    "   \n",
    "5. Random variable $T$ for subscription cancellations is described by the following following probability mass function:\n",
    "    $$P(T(=t|r,\\alpha,\\beta;Z(t)) = (\\frac{\\alpha}{\\alpha+C(t-1)})^{r} - (\\frac{\\alpha}{\\alpha+C(t)})^{r} $$\n",
    "\n",
    "6. The probability a customer is still active in time period $t$ is characterized by the following survival function:\n",
    "   $$S(t|r,\\alpha,\\beta;Z(t)) = (\\frac{\\alpha}{\\alpha+C(t)})^{r} $$\n",
    "\n",
    "7. To include static covariates, simply modify the $\\alpha$ parameter as shown:\n",
    "   $$\\alpha=\\alpha_0e^{-\\gamma*x} $$\n",
    "   Where $x$ denotes the static covariate arrays for each customer, with $\\gamma$ coefficients capturing covariate impacts. \n",
    "\n",
    "For detailed derivations of this model, refer back to the research notes."
   ]
  },
  {
   "cell_type": "code",
   "execution_count": 10,
   "id": "4df33955-1b35-4478-899b-ee2e7ad4c4d7",
   "metadata": {},
   "outputs": [
    {
     "data": {
      "text/html": [
       "<div>\n",
       "<style scoped>\n",
       "    .dataframe tbody tr th:only-of-type {\n",
       "        vertical-align: middle;\n",
       "    }\n",
       "\n",
       "    .dataframe tbody tr th {\n",
       "        vertical-align: top;\n",
       "    }\n",
       "\n",
       "    .dataframe thead th {\n",
       "        text-align: right;\n",
       "    }\n",
       "</style>\n",
       "<table border=\"1\" class=\"dataframe\">\n",
       "  <thead>\n",
       "    <tr style=\"text-align: right;\">\n",
       "      <th></th>\n",
       "      <th>customer_id</th>\n",
       "      <th>t_churn</th>\n",
       "      <th>T</th>\n",
       "      <th>group</th>\n",
       "    </tr>\n",
       "  </thead>\n",
       "  <tbody>\n",
       "    <tr>\n",
       "      <th>0</th>\n",
       "      <td>0</td>\n",
       "      <td>1</td>\n",
       "      <td>8</td>\n",
       "      <td>highend</td>\n",
       "    </tr>\n",
       "    <tr>\n",
       "      <th>1</th>\n",
       "      <td>1</td>\n",
       "      <td>1</td>\n",
       "      <td>8</td>\n",
       "      <td>highend</td>\n",
       "    </tr>\n",
       "    <tr>\n",
       "      <th>2</th>\n",
       "      <td>2</td>\n",
       "      <td>1</td>\n",
       "      <td>8</td>\n",
       "      <td>highend</td>\n",
       "    </tr>\n",
       "    <tr>\n",
       "      <th>3</th>\n",
       "      <td>3</td>\n",
       "      <td>1</td>\n",
       "      <td>8</td>\n",
       "      <td>highend</td>\n",
       "    </tr>\n",
       "    <tr>\n",
       "      <th>4</th>\n",
       "      <td>4</td>\n",
       "      <td>1</td>\n",
       "      <td>8</td>\n",
       "      <td>highend</td>\n",
       "    </tr>\n",
       "  </tbody>\n",
       "</table>\n",
       "</div>"
      ],
      "text/plain": [
       "   customer_id  t_churn  T    group\n",
       "0            0        1  8  highend\n",
       "1            1        1  8  highend\n",
       "2            2        1  8  highend\n",
       "3            3        1  8  highend\n",
       "4            4        1  8  highend"
      ]
     },
     "execution_count": 10,
     "metadata": {},
     "output_type": "execute_result"
    }
   ],
   "source": [
    "dataset.head()"
   ]
  },
  {
   "cell_type": "code",
   "execution_count": 32,
   "id": "d273eeff-edb7-457c-aab2-e4e509b520bd",
   "metadata": {},
   "outputs": [
    {
     "data": {
      "text/plain": [
       "0.0005620225806937817"
      ]
     },
     "execution_count": 32,
     "metadata": {},
     "output_type": "execute_result"
    }
   ],
   "source": [
    "r = 1\n",
    "alpha = 1\n",
    "t = 3\n",
    "\n",
    "lam = np.random.gamma(shape=r, scale=alpha) # 1/alpha?\n",
    "\n",
    "np.exp(-lam*(t-1)) - np.exp(-lam*t)"
   ]
  },
  {
   "cell_type": "code",
   "execution_count": 37,
   "id": "d5381a69-c6f0-494d-9242-86414f7c2737",
   "metadata": {},
   "outputs": [
    {
     "ename": "NotImplementedError",
     "evalue": "Censoring of multivariate distributions has not been implemented yet",
     "output_type": "error",
     "traceback": [
      "\u001b[0;31m---------------------------------------------------------------------------\u001b[0m",
      "\u001b[0;31mNotImplementedError\u001b[0m                       Traceback (most recent call last)",
      "Cell \u001b[0;32mIn[37], line 8\u001b[0m\n\u001b[1;32m      4\u001b[0m r \u001b[38;5;241m=\u001b[39m pm\u001b[38;5;241m.\u001b[39mHalfFlat(\u001b[38;5;124m\"\u001b[39m\u001b[38;5;124mr\u001b[39m\u001b[38;5;124m\"\u001b[39m)\n\u001b[1;32m      6\u001b[0m churn_raw \u001b[38;5;241m=\u001b[39m clv\u001b[38;5;241m.\u001b[39mdistributions\u001b[38;5;241m.\u001b[39mGrassiaIIGeometric(\u001b[38;5;124m\"\u001b[39m\u001b[38;5;124mchurn\u001b[39m\u001b[38;5;124m\"\u001b[39m,r\u001b[38;5;241m=\u001b[39mr, alpha\u001b[38;5;241m=\u001b[39malpha)\n\u001b[0;32m----> 8\u001b[0m \u001b[43mpm\u001b[49m\u001b[38;5;241;43m.\u001b[39;49m\u001b[43mCensored\u001b[49m\u001b[43m(\u001b[49m\n\u001b[1;32m      9\u001b[0m \u001b[43m    \u001b[49m\u001b[38;5;124;43m\"\u001b[39;49m\u001b[38;5;124;43mchurn_censored\u001b[39;49m\u001b[38;5;124;43m\"\u001b[39;49m\u001b[43m,\u001b[49m\n\u001b[1;32m     10\u001b[0m \u001b[43m    \u001b[49m\u001b[43mchurn_raw\u001b[49m\u001b[43m,\u001b[49m\n\u001b[1;32m     11\u001b[0m \u001b[43m    \u001b[49m\u001b[43mlower\u001b[49m\u001b[38;5;241;43m=\u001b[39;49m\u001b[38;5;28;43;01mNone\u001b[39;49;00m\u001b[43m,\u001b[49m\n\u001b[1;32m     12\u001b[0m \u001b[43m    \u001b[49m\u001b[43mupper\u001b[49m\u001b[38;5;241;43m=\u001b[39;49m\u001b[38;5;241;43m8\u001b[39;49m\u001b[43m,\u001b[49m\n\u001b[1;32m     13\u001b[0m \u001b[43m    \u001b[49m\u001b[43mobserved\u001b[49m\u001b[38;5;241;43m=\u001b[39;49m\u001b[43mdataset\u001b[49m\u001b[43m[\u001b[49m\u001b[38;5;124;43m\"\u001b[39;49m\u001b[38;5;124;43mt_churn\u001b[39;49m\u001b[38;5;124;43m\"\u001b[39;49m\u001b[43m]\u001b[49m\u001b[43m,\u001b[49m\n\u001b[1;32m     14\u001b[0m \u001b[43m    \u001b[49m\u001b[43mdims\u001b[49m\u001b[38;5;241;43m=\u001b[39;49m\u001b[43m(\u001b[49m\u001b[38;5;124;43m\"\u001b[39;49m\u001b[38;5;124;43mcustomer_id\u001b[39;49m\u001b[38;5;124;43m\"\u001b[39;49m\u001b[43m,\u001b[49m\u001b[43m)\u001b[49m\u001b[43m,\u001b[49m\n\u001b[1;32m     15\u001b[0m \u001b[43m\u001b[49m\u001b[43m)\u001b[49m\n",
      "File \u001b[0;32m~/miniconda3/envs/pymc-marketing-dev/lib/python3.10/site-packages/pymc/distributions/distribution.py:511\u001b[0m, in \u001b[0;36mDistribution.__new__\u001b[0;34m(cls, name, rng, dims, initval, observed, total_size, transform, default_transform, *args, **kwargs)\u001b[0m\n\u001b[1;32m    508\u001b[0m     \u001b[38;5;28;01melif\u001b[39;00m observed \u001b[38;5;129;01mis\u001b[39;00m \u001b[38;5;129;01mnot\u001b[39;00m \u001b[38;5;28;01mNone\u001b[39;00m:\n\u001b[1;32m    509\u001b[0m         kwargs[\u001b[38;5;124m\"\u001b[39m\u001b[38;5;124mshape\u001b[39m\u001b[38;5;124m\"\u001b[39m] \u001b[38;5;241m=\u001b[39m \u001b[38;5;28mtuple\u001b[39m(observed\u001b[38;5;241m.\u001b[39mshape)\n\u001b[0;32m--> 511\u001b[0m rv_out \u001b[38;5;241m=\u001b[39m \u001b[38;5;28;43mcls\u001b[39;49m\u001b[38;5;241;43m.\u001b[39;49m\u001b[43mdist\u001b[49m\u001b[43m(\u001b[49m\u001b[38;5;241;43m*\u001b[39;49m\u001b[43margs\u001b[49m\u001b[43m,\u001b[49m\u001b[43m \u001b[49m\u001b[38;5;241;43m*\u001b[39;49m\u001b[38;5;241;43m*\u001b[39;49m\u001b[43mkwargs\u001b[49m\u001b[43m)\u001b[49m\n\u001b[1;32m    513\u001b[0m rv_out \u001b[38;5;241m=\u001b[39m model\u001b[38;5;241m.\u001b[39mregister_rv(\n\u001b[1;32m    514\u001b[0m     rv_out,\n\u001b[1;32m    515\u001b[0m     name,\n\u001b[0;32m   (...)\u001b[0m\n\u001b[1;32m    521\u001b[0m     initval\u001b[38;5;241m=\u001b[39minitval,\n\u001b[1;32m    522\u001b[0m )\n\u001b[1;32m    524\u001b[0m \u001b[38;5;66;03m# add in pretty-printing support\u001b[39;00m\n",
      "File \u001b[0;32m~/miniconda3/envs/pymc-marketing-dev/lib/python3.10/site-packages/pymc/distributions/censored.py:123\u001b[0m, in \u001b[0;36mCensored.dist\u001b[0;34m(cls, dist, lower, upper, **kwargs)\u001b[0m\n\u001b[1;32m    119\u001b[0m     \u001b[38;5;28;01mraise\u001b[39;00m \u001b[38;5;167;01mValueError\u001b[39;00m(\n\u001b[1;32m    120\u001b[0m         \u001b[38;5;124mf\u001b[39m\u001b[38;5;124m\"\u001b[39m\u001b[38;5;124mCensoring dist must be a distribution created via the `.dist()` API, got \u001b[39m\u001b[38;5;132;01m{\u001b[39;00m\u001b[38;5;28mtype\u001b[39m(dist)\u001b[38;5;132;01m}\u001b[39;00m\u001b[38;5;124m\"\u001b[39m\n\u001b[1;32m    121\u001b[0m     )\n\u001b[1;32m    122\u001b[0m \u001b[38;5;28;01mif\u001b[39;00m dist\u001b[38;5;241m.\u001b[39mowner\u001b[38;5;241m.\u001b[39mop\u001b[38;5;241m.\u001b[39mndim_supp \u001b[38;5;241m>\u001b[39m \u001b[38;5;241m0\u001b[39m:\n\u001b[0;32m--> 123\u001b[0m     \u001b[38;5;28;01mraise\u001b[39;00m \u001b[38;5;167;01mNotImplementedError\u001b[39;00m(\n\u001b[1;32m    124\u001b[0m         \u001b[38;5;124m\"\u001b[39m\u001b[38;5;124mCensoring of multivariate distributions has not been implemented yet\u001b[39m\u001b[38;5;124m\"\u001b[39m\n\u001b[1;32m    125\u001b[0m     )\n\u001b[1;32m    126\u001b[0m check_dist_not_registered(dist)\n\u001b[1;32m    127\u001b[0m \u001b[38;5;28;01mreturn\u001b[39;00m \u001b[38;5;28msuper\u001b[39m()\u001b[38;5;241m.\u001b[39mdist([dist, lower, upper], \u001b[38;5;241m*\u001b[39m\u001b[38;5;241m*\u001b[39mkwargs)\n",
      "\u001b[0;31mNotImplementedError\u001b[0m: Censoring of multivariate distributions has not been implemented yet"
     ]
    }
   ],
   "source": [
    "coords = {\"customer_id\": dataset[\"customer_id\"]}\n",
    "with pm.Model(coords=coords) as model:\n",
    "    alpha = pm.HalfFlat(\"alpha\")\n",
    "    r = pm.HalfFlat(\"r\")\n",
    "\n",
    "    # TODO: running into issues with censored data\n",
    "    #       Try using potentials instead\n",
    "\n",
    "    # churn_raw = clv.distributions.GrassiaIIGeometric(\"churn\",r=r, alpha=alpha)\n",
    "    \n",
    "    # pm.Censored(\n",
    "    #     \"churn_censored\",\n",
    "    #     churn_raw,\n",
    "    #     lower=None,\n",
    "    #     upper=dataset[\"T\"],\n",
    "    #     observed=dataset[\"t_churn\"],\n",
    "    #     dims=(\"customer_id\",),\n",
    "    # )\n",
    "    "
   ]
  },
  {
   "cell_type": "markdown",
   "id": "ec378e3b-1152-4fa8-9bd6-de4b13f5fd88",
   "metadata": {},
   "source": [
    "# Covariate Data Generation Code\n",
    "Incorporate this code into the Data Generation section for covariate development."
   ]
  },
  {
   "cell_type": "code",
   "execution_count": 8,
   "id": "8d0b1163-58d3-428c-8ac9-7695d7a8bac4",
   "metadata": {
    "jupyter": {
     "source_hidden": true
    }
   },
   "outputs": [],
   "source": [
    "# Set random seed\n",
    "rng = np.random.seed(45)\n",
    "\n",
    "# Number of customers\n",
    "N = 1000\n",
    "\n",
    "# customer IDs\n",
    "customer_id = np.array(np.arange(N))\n",
    "\n",
    "# define probabiilty distributions\n",
    "demographic_dist = pm.Bernoulli.dist(p=.5,rng=rng)\n",
    "t_periods_dist = pm.Geometric.dist(p=.5, rng=rng)\n",
    "active_dist = pm.Bernoulli.dist(p=.3,rng=rng)\n",
    "n_purchases_dist = pm.Poisson.dist(mu=1, rng=rng)\n",
    "avg_purchase_price_dist = pm.Gamma.dist(alpha=10, beta=1, rng=rng)\n",
    "\n",
    "# draws for each customer\n",
    "demographic = pm.draw(demographic_dist,draws=N)\n",
    "t_periods = 13 - pm.draw(t_periods_dist,draws=N)\n",
    "active = pm.draw(active_dist,draws=N)"
   ]
  },
  {
   "cell_type": "code",
   "execution_count": 9,
   "id": "a9032add-fdbd-4252-adbe-758fc2e58046",
   "metadata": {
    "collapsed": true,
    "jupyter": {
     "outputs_hidden": true,
     "source_hidden": true
    }
   },
   "outputs": [
    {
     "ename": "ValueError",
     "evalue": "negative dimensions are not allowed",
     "output_type": "error",
     "traceback": [
      "\u001b[0;31m---------------------------------------------------------------------------\u001b[0m",
      "\u001b[0;31mValueError\u001b[0m                                Traceback (most recent call last)",
      "Cell \u001b[0;32mIn[9], line 5\u001b[0m\n\u001b[1;32m      2\u001b[0m customer_id_col \u001b[38;5;241m=\u001b[39m np\u001b[38;5;241m.\u001b[39marray([])\n\u001b[1;32m      4\u001b[0m \u001b[38;5;28;01mfor\u001b[39;00m idx \u001b[38;5;129;01min\u001b[39;00m \u001b[38;5;28mzip\u001b[39m(customer_id, t_periods):\n\u001b[0;32m----> 5\u001b[0m     customer_id_col \u001b[38;5;241m=\u001b[39m np\u001b[38;5;241m.\u001b[39mconcatenate((customer_id_col, \u001b[43mnp\u001b[49m\u001b[38;5;241;43m.\u001b[39;49m\u001b[43mrepeat\u001b[49m\u001b[43m(\u001b[49m\u001b[43midx\u001b[49m\u001b[43m[\u001b[49m\u001b[38;5;241;43m0\u001b[39;49m\u001b[43m]\u001b[49m\u001b[43m,\u001b[49m\u001b[43m \u001b[49m\u001b[43midx\u001b[49m\u001b[43m[\u001b[49m\u001b[38;5;241;43m1\u001b[39;49m\u001b[43m]\u001b[49m\u001b[43m)\u001b[49m), axis\u001b[38;5;241m=\u001b[39m\u001b[38;5;241m0\u001b[39m)\n\u001b[1;32m      7\u001b[0m n_time_periods \u001b[38;5;241m=\u001b[39m \u001b[38;5;28mlen\u001b[39m(customer_id_col)\n",
      "File \u001b[0;32m~/miniconda3/envs/pymc-marketing-dev/lib/python3.10/site-packages/numpy/core/fromnumeric.py:466\u001b[0m, in \u001b[0;36mrepeat\u001b[0;34m(a, repeats, axis)\u001b[0m\n\u001b[1;32m    423\u001b[0m \u001b[38;5;129m@array_function_dispatch\u001b[39m(_repeat_dispatcher)\n\u001b[1;32m    424\u001b[0m \u001b[38;5;28;01mdef\u001b[39;00m \u001b[38;5;21mrepeat\u001b[39m(a, repeats, axis\u001b[38;5;241m=\u001b[39m\u001b[38;5;28;01mNone\u001b[39;00m):\n\u001b[1;32m    425\u001b[0m \u001b[38;5;250m    \u001b[39m\u001b[38;5;124;03m\"\"\"\u001b[39;00m\n\u001b[1;32m    426\u001b[0m \u001b[38;5;124;03m    Repeat each element of an array after themselves\u001b[39;00m\n\u001b[1;32m    427\u001b[0m \n\u001b[0;32m   (...)\u001b[0m\n\u001b[1;32m    464\u001b[0m \n\u001b[1;32m    465\u001b[0m \u001b[38;5;124;03m    \"\"\"\u001b[39;00m\n\u001b[0;32m--> 466\u001b[0m     \u001b[38;5;28;01mreturn\u001b[39;00m \u001b[43m_wrapfunc\u001b[49m\u001b[43m(\u001b[49m\u001b[43ma\u001b[49m\u001b[43m,\u001b[49m\u001b[43m \u001b[49m\u001b[38;5;124;43m'\u001b[39;49m\u001b[38;5;124;43mrepeat\u001b[39;49m\u001b[38;5;124;43m'\u001b[39;49m\u001b[43m,\u001b[49m\u001b[43m \u001b[49m\u001b[43mrepeats\u001b[49m\u001b[43m,\u001b[49m\u001b[43m \u001b[49m\u001b[43maxis\u001b[49m\u001b[38;5;241;43m=\u001b[39;49m\u001b[43maxis\u001b[49m\u001b[43m)\u001b[49m\n",
      "File \u001b[0;32m~/miniconda3/envs/pymc-marketing-dev/lib/python3.10/site-packages/numpy/core/fromnumeric.py:59\u001b[0m, in \u001b[0;36m_wrapfunc\u001b[0;34m(obj, method, *args, **kwds)\u001b[0m\n\u001b[1;32m     56\u001b[0m     \u001b[38;5;28;01mreturn\u001b[39;00m _wrapit(obj, method, \u001b[38;5;241m*\u001b[39margs, \u001b[38;5;241m*\u001b[39m\u001b[38;5;241m*\u001b[39mkwds)\n\u001b[1;32m     58\u001b[0m \u001b[38;5;28;01mtry\u001b[39;00m:\n\u001b[0;32m---> 59\u001b[0m     \u001b[38;5;28;01mreturn\u001b[39;00m \u001b[43mbound\u001b[49m\u001b[43m(\u001b[49m\u001b[38;5;241;43m*\u001b[39;49m\u001b[43margs\u001b[49m\u001b[43m,\u001b[49m\u001b[43m \u001b[49m\u001b[38;5;241;43m*\u001b[39;49m\u001b[38;5;241;43m*\u001b[39;49m\u001b[43mkwds\u001b[49m\u001b[43m)\u001b[49m\n\u001b[1;32m     60\u001b[0m \u001b[38;5;28;01mexcept\u001b[39;00m \u001b[38;5;167;01mTypeError\u001b[39;00m:\n\u001b[1;32m     61\u001b[0m     \u001b[38;5;66;03m# A TypeError occurs if the object does have such a method in its\u001b[39;00m\n\u001b[1;32m     62\u001b[0m     \u001b[38;5;66;03m# class, but its signature is not identical to that of NumPy's. This\u001b[39;00m\n\u001b[0;32m   (...)\u001b[0m\n\u001b[1;32m     66\u001b[0m     \u001b[38;5;66;03m# Call _wrapit from within the except clause to ensure a potential\u001b[39;00m\n\u001b[1;32m     67\u001b[0m     \u001b[38;5;66;03m# exception has a traceback chain.\u001b[39;00m\n\u001b[1;32m     68\u001b[0m     \u001b[38;5;28;01mreturn\u001b[39;00m _wrapit(obj, method, \u001b[38;5;241m*\u001b[39margs, \u001b[38;5;241m*\u001b[39m\u001b[38;5;241m*\u001b[39mkwds)\n",
      "\u001b[0;31mValueError\u001b[0m: negative dimensions are not allowed"
     ]
    }
   ],
   "source": [
    "# create time periods for each customer\n",
    "customer_id_col = np.array([])\n",
    "\n",
    "for idx in zip(customer_id, t_periods):\n",
    "    customer_id_col = np.concatenate((customer_id_col, np.repeat(idx[0], idx[1])), axis=0)\n",
    "\n",
    "n_time_periods = len(customer_id_col)"
   ]
  },
  {
   "cell_type": "code",
   "execution_count": null,
   "id": "93f4e2db-e320-4fee-be99-d0b8477c3644",
   "metadata": {
    "jupyter": {
     "source_hidden": true
    }
   },
   "outputs": [],
   "source": [
    "# draws for each time period\n",
    "n_purchases = pm.draw(n_purchases_dist, draws=n_time_periods)\n",
    "avg_purchase_price = pm.draw(avg_purchase_price_dist, draws=n_time_periods)"
   ]
  },
  {
   "cell_type": "code",
   "execution_count": null,
   "id": "603f4ceb-371f-4efc-8209-b97461e28662",
   "metadata": {
    "jupyter": {
     "source_hidden": true
    }
   },
   "outputs": [],
   "source": [
    "customer_df = pd.DataFrame(\n",
    "    {\n",
    "        \"customer_id\": customer_id,\n",
    "        \"demographic\": demographic,\n",
    "        \"active\": active,\n",
    "    }\n",
    ")\n",
    "\n",
    "time_period_df = pd.DataFrame(\n",
    "    {\n",
    "        \"customer_id\": customer_id_col,\n",
    "        \"monthly_purchases\": n_purchases,\n",
    "        \"avg_price\": avg_purchase_price,\n",
    "    }\n",
    ")"
   ]
  },
  {
   "cell_type": "code",
   "execution_count": null,
   "id": "fe4cc4bd-af0c-4dac-9ae2-2d2675df6ca8",
   "metadata": {
    "jupyter": {
     "source_hidden": true
    }
   },
   "outputs": [],
   "source": [
    "customer_df"
   ]
  },
  {
   "cell_type": "code",
   "execution_count": null,
   "id": "e4d44444-3d18-4057-8e2a-6b88ea7a025f",
   "metadata": {
    "jupyter": {
     "source_hidden": true
    }
   },
   "outputs": [],
   "source": [
    "time_period_df"
   ]
  }
 ],
 "metadata": {
  "kernelspec": {
   "display_name": "Python 3 (ipykernel)",
   "language": "python",
   "name": "python3"
  },
  "language_info": {
   "codemirror_mode": {
    "name": "ipython",
    "version": 3
   },
   "file_extension": ".py",
   "mimetype": "text/x-python",
   "name": "python",
   "nbconvert_exporter": "python",
   "pygments_lexer": "ipython3",
   "version": "3.10.14"
  }
 },
 "nbformat": 4,
 "nbformat_minor": 5
}
